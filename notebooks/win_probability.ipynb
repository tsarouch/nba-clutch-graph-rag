{
 "cells": [
  {
   "cell_type": "code",
   "execution_count": 1,
   "id": "c955357d",
   "metadata": {},
   "outputs": [],
   "source": [
    "%load_ext autoreload\n",
    "%autoreload 2"
   ]
  },
  {
   "cell_type": "code",
   "execution_count": 2,
   "id": "6d5e44e3",
   "metadata": {},
   "outputs": [],
   "source": [
    "# fetch paths\n",
    "import sys, os\n",
    "sys.path.append(os.path.abspath('..'))\n",
    "import config"
   ]
  },
  {
   "cell_type": "code",
   "execution_count": 3,
   "id": "4e142be5",
   "metadata": {},
   "outputs": [
    {
     "name": "stderr",
     "output_type": "stream",
     "text": [
      "/var/folders/bf/2ywdfn4j5v990hqqjj51yjyc0000gn/T/ipykernel_66066/1650202740.py:38: FutureWarning: Series.fillna with 'method' is deprecated and will raise in a future version. Use obj.ffill() or obj.bfill() instead.\n",
      "  df_hist[\"MARGIN_BEFORE\"] = df_hist[\"MARGIN_BEFORE\"].fillna(method=\"ffill\")  # cheap fill; fine for modeling\n"
     ]
    }
   ],
   "source": [
    "import os, re\n",
    "import numpy as np\n",
    "import pandas as pd\n",
    "from pathlib import Path\n",
    "from neo4j import GraphDatabase\n",
    "import sys\n",
    "repo_root = Path(\"..\").resolve()\n",
    "sys.path.append(str(repo_root))\n",
    "import config\n",
    "\n",
    "RAW_PLAYOFFS = Path(config.DATA_RAW_PLAYOFFS)          # 1996–97 playoffs CSV\n",
    "RAW_FINALS   = Path(config.DATA_RAW_FINALS)            # 1997 Finals CSV\n",
    "\n",
    "def to_sec_left(pct):\n",
    "    try:\n",
    "        m, s = str(pct).split(\":\"); return int(m)*60 + int(s)\n",
    "    except: return np.nan\n",
    "\n",
    "def seconds_left_game(period, sec_left_period):\n",
    "    # regulation only (4*12min=2880s). This is enough for '97 Finals demo.\n",
    "    return max(0, (4 - int(period)) * 720 + int(sec_left_period or 0))\n",
    "\n",
    "# --- Load historical events (you can expand to more seasons if you want) ---\n",
    "df_hist = pd.read_csv(RAW_PLAYOFFS)\n",
    "df_hist = df_hist.sort_values([\"GAME_ID\",\"PERIOD\",\"EVENTNUM\"])\n",
    "df_hist[\"SECONDS_LEFT_PERIOD\"] = df_hist[\"PCTIMESTRING\"].apply(to_sec_left)\n",
    "df_hist[\"SECONDS_LEFT_GAME\"]   = df_hist.apply(lambda r: seconds_left_game(r[\"PERIOD\"], r[\"SECONDS_LEFT_PERIOD\"]), axis=1)\n",
    "\n",
    "# Label: did HOME eventually win this game?\n",
    "final_margin = (df_hist.groupby(\"GAME_ID\")[\"SCOREMARGIN\"].last()\n",
    "                .rename(\"FINAL_MARGIN\").astype(float))\n",
    "df_hist = df_hist.merge(final_margin, on=\"GAME_ID\", how=\"left\")\n",
    "df_hist[\"HOME_WIN\"] = (df_hist[\"FINAL_MARGIN\"] > 0).astype(int)\n",
    "\n",
    "# Margin before current event (per game)\n",
    "df_hist[\"SCOREMARGIN\"] = pd.to_numeric(df_hist[\"SCOREMARGIN\"], errors=\"coerce\")\n",
    "df_hist[\"MARGIN_BEFORE\"] = df_hist.groupby(\"GAME_ID\")[\"SCOREMARGIN\"].shift(1)\n",
    "df_hist[\"MARGIN_BEFORE\"] = df_hist[\"MARGIN_BEFORE\"].fillna(method=\"ffill\")  # cheap fill; fine for modeling\n",
    "\n",
    "# Keep rows with both features present\n",
    "hist = df_hist.dropna(subset=[\"SECONDS_LEFT_GAME\",\"MARGIN_BEFORE\",\"HOME_WIN\"]).copy()\n",
    "hist[\"MARGIN_BEFORE\"] = hist[\"MARGIN_BEFORE\"].astype(int)\n",
    "\n",
    "# --- Build a 2D grid: time-left (30s bins) × margin (−20..20) ---\n",
    "TIME_BIN = 30   # seconds per bin\n",
    "MAX_MARGIN = 20\n",
    "hist[\"tbin\"] = (hist[\"SECONDS_LEFT_GAME\"] // TIME_BIN).clip(lower=0).astype(int)\n",
    "hist[\"mbin\"] = hist[\"MARGIN_BEFORE\"].clip(-MAX_MARGIN, MAX_MARGIN).astype(int)\n",
    "\n",
    "# Aggregate win rates with Laplace smoothing\n",
    "agg = (hist.groupby([\"tbin\",\"mbin\"])[\"HOME_WIN\"]\n",
    "       .agg([\"sum\",\"count\"])\n",
    "       .reset_index())\n",
    "alpha = 1.0\n",
    "agg[\"pwin\"] = (agg[\"sum\"] + alpha) / (agg[\"count\"] + 2*alpha)\n",
    "\n",
    "# Pivot to dense grid & fill gaps by nearest along time then margin\n",
    "t_range = np.arange(0, int(hist[\"tbin\"].max())+1)\n",
    "m_range = np.arange(-MAX_MARGIN, MAX_MARGIN+1)\n",
    "grid = (agg.pivot(index=\"tbin\", columns=\"mbin\", values=\"pwin\")\n",
    "          .reindex(index=t_range, columns=m_range))\n",
    "grid = grid.ffill(axis=0).bfill(axis=0)   # fill along time\n",
    "grid = grid.ffill(axis=1).bfill(axis=1)   # fill along margin\n",
    "\n",
    "def wp_lookup(sec_left_game: float, margin: float) -> float:\n",
    "    tbin = int(max(0, sec_left_game) // TIME_BIN)\n",
    "    mbin = int(np.clip(margin, -MAX_MARGIN, MAX_MARGIN))\n",
    "    tbin = int(min(tbin, grid.index.max()))\n",
    "    mbin = int(np.clip(mbin, grid.columns.min(), grid.columns.max()))\n",
    "    return float(grid.loc[tbin, mbin])\n"
   ]
  },
  {
   "cell_type": "code",
   "execution_count": null,
   "id": "c834ce91",
   "metadata": {},
   "outputs": [],
   "source": []
  }
 ],
 "metadata": {
  "kernelspec": {
   "display_name": "genai-gr",
   "language": "python",
   "name": "python3"
  },
  "language_info": {
   "codemirror_mode": {
    "name": "ipython",
    "version": 3
   },
   "file_extension": ".py",
   "mimetype": "text/x-python",
   "name": "python",
   "nbconvert_exporter": "python",
   "pygments_lexer": "ipython3",
   "version": "3.10.16"
  }
 },
 "nbformat": 4,
 "nbformat_minor": 5
}
