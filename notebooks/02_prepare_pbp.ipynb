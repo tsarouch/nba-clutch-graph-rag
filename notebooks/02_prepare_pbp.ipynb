{
 "cells": [
  {
   "cell_type": "code",
   "execution_count": 5,
   "id": "dc10a609",
   "metadata": {},
   "outputs": [
    {
     "name": "stdout",
     "output_type": "stream",
     "text": [
      "The autoreload extension is already loaded. To reload it, use:\n",
      "  %reload_ext autoreload\n"
     ]
    }
   ],
   "source": [
    "%load_ext autoreload\n",
    "%autoreload 2"
   ]
  },
  {
   "cell_type": "markdown",
   "id": "a1b2582c",
   "metadata": {},
   "source": [
    "## Prepare graph-friendly CSVs in pandas"
   ]
  },
  {
   "cell_type": "code",
   "execution_count": 7,
   "id": "cfea4f43",
   "metadata": {},
   "outputs": [],
   "source": [
    "\n",
    "import os\n",
    "import re\n",
    "from pathlib import Path\n",
    "from io import BytesIO, TextIOWrapper\n",
    "from urllib.request import urlopen\n",
    "import tarfile\n",
    "import csv\n",
    "from typing import Union, Sequence, Optional, List\n",
    "\n",
    "# fetch paths\n",
    "import sys, os\n",
    "sys.path.append(os.path.abspath('..'))\n",
    "import config\n",
    "\n",
    "import pandas as pd\n",
    "\n",
    "# Import config from project root. Adjust the path below if running elsewhere.\n",
    "import sys\n",
    "# Assume the notebook sits in `notebooks/` and config.py is in repo root:\n",
    "repo_root = Path(\"..\").resolve()\n",
    "sys.path.append(str(repo_root))\n",
    "import config\n",
    "\n",
    "# Paths from config\n",
    "RAW_DIR = Path(config.DATA_RAW_DIR)\n",
    "RAW_DIR.mkdir(parents=True, exist_ok=True)\n",
    "PROCESSED_DIR = Path(config.DATA_PROCESSED_DIR)\n",
    "PROCESSED_DIR.mkdir(parents=True, exist_ok=True)\n",
    "\n",
    "RAW_PLAYOFFS = Path(config.DATA_RAW_PLAYOFFS)\n",
    "RAW_FINALS = Path(config.DATA_RAW_FINALS)\n"
   ]
  },
  {
   "cell_type": "code",
   "execution_count": 8,
   "id": "11d25462",
   "metadata": {},
   "outputs": [
    {
     "name": "stdout",
     "output_type": "stream",
     "text": [
      "Processed CSVs saved to: /Users/charilaostsarouchas/Documents/Harris/04_Blueprints/agentic_ai/20250820_Bulls_Highlights_Retrieval/data/processed\n"
     ]
    },
    {
     "name": "stderr",
     "output_type": "stream",
     "text": [
      "/var/folders/bf/2ywdfn4j5v990hqqjj51yjyc0000gn/T/ipykernel_64691/2968918982.py:15: FutureWarning: A value is trying to be set on a copy of a DataFrame or Series through chained assignment using an inplace method.\n",
      "The behavior will change in pandas 3.0. This inplace method will never work because the intermediate object on which we are setting values always behaves as a copy.\n",
      "\n",
      "For example, when doing 'df[col].method(value, inplace=True)', try using 'df.method({col: value}, inplace=True)' or df[col] = df[col].method(value) instead, to perform the operation inplace on the original object.\n",
      "\n",
      "\n",
      "  df[\"SCOREMARGIN\"].fillna(method=\"ffill\", inplace=True)\n",
      "/var/folders/bf/2ywdfn4j5v990hqqjj51yjyc0000gn/T/ipykernel_64691/2968918982.py:15: FutureWarning: Series.fillna with 'method' is deprecated and will raise in a future version. Use obj.ffill() or obj.bfill() instead.\n",
      "  df[\"SCOREMARGIN\"].fillna(method=\"ffill\", inplace=True)\n"
     ]
    }
   ],
   "source": [
    "\n",
    "df = pd.read_csv(RAW_FINALS)\n",
    "df = df.sort_values([\"GAME_ID\",\"PERIOD\",\"EVENTNUM\"]).reset_index(drop=True)\n",
    "\n",
    "def to_seconds_left(pctimestr: str):\n",
    "    try:\n",
    "        m, s = str(pctimestr).split(\":\")\n",
    "        return int(m)*60 + int(s)\n",
    "    except Exception:\n",
    "        return None\n",
    "\n",
    "df[\"SECONDS_LEFT_PERIOD\"] = df[\"PCTIMESTRING\"].apply(to_seconds_left)\n",
    "df[\"SECONDS_LEFT_GAME\"] = (4 - df[\"PERIOD\"]).clip(lower=0)*720 + df[\"SECONDS_LEFT_PERIOD\"]\n",
    "\n",
    "df[\"SCOREMARGIN\"] = pd.to_numeric(df[\"SCOREMARGIN\"], errors=\"coerce\")\n",
    "df[\"SCOREMARGIN\"].fillna(method=\"ffill\", inplace=True)\n",
    "\n",
    "df[\"EVENT_ID\"] = df[\"GAME_ID\"].astype(str) + \"_\" + df[\"EVENTNUM\"].astype(str)\n",
    "\n",
    "df[\"IS_CLUTCH\"] = (df[\"PERIOD\"] == 4) & (df[\"SECONDS_LEFT_PERIOD\"] <= 30) & (df[\"SCOREMARGIN\"].abs() <= 3)\n",
    "\n",
    "df[\"NEXT_EVENT_ID\"] = df.groupby(\"GAME_ID\")[\"EVENT_ID\"].shift(-1)\n",
    "\n",
    "\n",
    "frames = []\n",
    "for pid_col, name_col, team_col in [\n",
    "    (\"PLAYER1_ID\",\"PLAYER1_NAME\",\"PLAYER1_TEAM_ABBREVIATION\"),\n",
    "    (\"PLAYER2_ID\",\"PLAYER2_NAME\",\"PLAYER2_TEAM_ABBREVIATION\"),\n",
    "    (\"PLAYER3_ID\",\"PLAYER3_NAME\",\"PLAYER3_TEAM_ABBREVIATION\"),\n",
    "]:\n",
    "    sub = df[[pid_col, name_col, team_col]].rename(columns={\n",
    "        pid_col: \"player_id\", name_col: \"name\", team_col: \"team\"\n",
    "    })\n",
    "    frames.append(sub)\n",
    "\n",
    "players = pd.concat(frames, ignore_index=True)\n",
    "players = players.dropna(subset=[\"player_id\"]).drop_duplicates()\n",
    "players[\"player_id\"] = players[\"player_id\"].astype(str)\n",
    "\n",
    "\n",
    "\n",
    "\n",
    "games = df[[\"GAME_ID\"]].drop_duplicates().rename(columns={\"GAME_ID\":\"game_id\"})\n",
    "\n",
    "\n",
    "\n",
    "\n",
    "events = df[[\n",
    "    \"EVENT_ID\",\"GAME_ID\",\"PERIOD\",\"SECONDS_LEFT_PERIOD\",\"SECONDS_LEFT_GAME\",\n",
    "    \"EVENTMSGTYPE\",\"EVENTMSGACTIONTYPE\",\"SCORE\",\"SCOREMARGIN\",\n",
    "    \"HOMEDESCRIPTION\",\"VISITORDESCRIPTION\",\"IS_CLUTCH\"\n",
    "]].rename(columns={\"GAME_ID\":\"game_id\"})\n",
    "\n",
    "# Relationships\n",
    "rels_next = df[[\"EVENT_ID\",\"NEXT_EVENT_ID\"]].dropna()\n",
    "rels_in_game = df[[\"EVENT_ID\",\"GAME_ID\"]].rename(columns={\"GAME_ID\":\"game_id\"})\n",
    "\n",
    "rels_performed = []\n",
    "for col in [\"PLAYER1_ID\",\"PLAYER2_ID\",\"PLAYER3_ID\"]:\n",
    "    sub = df[[\"EVENT_ID\", col]].dropna()\n",
    "    sub.columns = [\"event_id\",\"player_id\"]\n",
    "    sub[\"role\"] = col\n",
    "    rels_performed.append(sub)\n",
    "rels_performed = pd.concat(rels_performed)\n",
    "\n",
    "# Save\n",
    "players.to_csv(PROCESSED_DIR / \"players.csv\", index=False)\n",
    "games.to_csv(PROCESSED_DIR / \"games.csv\", index=False)\n",
    "events.to_csv(PROCESSED_DIR / \"events.csv\", index=False)\n",
    "rels_next.to_csv(PROCESSED_DIR / \"rels_next.csv\", index=False)\n",
    "rels_in_game.rename(columns={\"EVENT_ID\":\"event_id\"}, inplace=True)\n",
    "rels_in_game.to_csv(PROCESSED_DIR / \"rels_in_game.csv\", index=False)\n",
    "rels_performed.to_csv(PROCESSED_DIR / \"rels_performed.csv\", index=False)\n",
    "\n",
    "print(\"Processed CSVs saved to:\", PROCESSED_DIR)\n"
   ]
  },
  {
   "cell_type": "code",
   "execution_count": null,
   "id": "21722bba",
   "metadata": {},
   "outputs": [],
   "source": []
  }
 ],
 "metadata": {
  "kernelspec": {
   "display_name": "genai-gr",
   "language": "python",
   "name": "python3"
  },
  "language_info": {
   "codemirror_mode": {
    "name": "ipython",
    "version": 3
   },
   "file_extension": ".py",
   "mimetype": "text/x-python",
   "name": "python",
   "nbconvert_exporter": "python",
   "pygments_lexer": "ipython3",
   "version": "3.10.16"
  }
 },
 "nbformat": 4,
 "nbformat_minor": 5
}
