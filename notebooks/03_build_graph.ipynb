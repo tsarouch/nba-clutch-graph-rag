{
 "cells": [
  {
   "cell_type": "markdown",
   "id": "5d73f37a",
   "metadata": {},
   "source": [
    "\n",
    "# Bulls GraphRAG — End-to-End (Playoffs 1996–97 → Graph → Queries)\n",
    "\n",
    "This notebook performs an **end-to-end pipeline**:\n",
    "\n",
    "1. **Download** 1996–97 playoff play-by-play data and extract the **1997 Finals (Bulls–Jazz)**.\n",
    "2. **Prepare** graph-friendly CSVs in pandas (events, players, games, and relationships).\n",
    "3. **Load** the graph into **Neo4j** via the Python driver with **minimal Cypher**.\n",
    "4. **Query** a few clutch moments (e.g., Steve Kerr’s dagger) for sanity checking.\n",
    "\n"
   ]
  },
  {
   "cell_type": "markdown",
   "id": "c37d408c",
   "metadata": {},
   "source": []
  },
  {
   "cell_type": "code",
   "execution_count": 33,
   "id": "f2462800",
   "metadata": {},
   "outputs": [
    {
     "name": "stdout",
     "output_type": "stream",
     "text": [
      "The autoreload extension is already loaded. To reload it, use:\n",
      "  %reload_ext autoreload\n"
     ]
    }
   ],
   "source": [
    "%load_ext autoreload\n",
    "%autoreload 2"
   ]
  },
  {
   "cell_type": "code",
   "execution_count": 34,
   "id": "e5d65c9f",
   "metadata": {},
   "outputs": [
    {
     "data": {
      "text/plain": [
       "(PosixPath('/Users/charilaostsarouchas/Documents/Harris/04_Blueprints/agentic_ai/20250820_Bulls_Highlights_Retrieval/data/raw'),\n",
       " PosixPath('/Users/charilaostsarouchas/Documents/Harris/04_Blueprints/agentic_ai/20250820_Bulls_Highlights_Retrieval/data/processed'),\n",
       " PosixPath('/Users/charilaostsarouchas/Documents/Harris/04_Blueprints/agentic_ai/20250820_Bulls_Highlights_Retrieval/data/raw/pbp_1996_1997_playoffs.csv'),\n",
       " PosixPath('/Users/charilaostsarouchas/Documents/Harris/04_Blueprints/agentic_ai/20250820_Bulls_Highlights_Retrieval/data/raw/pbp_1997_finals_chi_uta.csv'),\n",
       " 'bolt://localhost:7687')"
      ]
     },
     "execution_count": 34,
     "metadata": {},
     "output_type": "execute_result"
    }
   ],
   "source": [
    "\n",
    "import os\n",
    "import re\n",
    "from pathlib import Path\n",
    "from io import BytesIO, TextIOWrapper\n",
    "from urllib.request import urlopen\n",
    "import tarfile\n",
    "import csv\n",
    "from typing import Union, Sequence, Optional, List\n",
    "\n",
    "import pandas as pd\n",
    "\n",
    "# Import config from project root. Adjust the path below if running elsewhere.\n",
    "import sys\n",
    "# Assume the notebook sits in `notebooks/` and config.py is in repo root:\n",
    "repo_root = Path(\"..\").resolve()\n",
    "sys.path.append(str(repo_root))\n",
    "import config\n",
    "\n",
    "# Paths from config\n",
    "RAW_DIR = Path(config.DATA_RAW_DIR)\n",
    "RAW_DIR.mkdir(parents=True, exist_ok=True)\n",
    "PROCESSED_DIR = Path(config.DATA_PROCESSED_DIR)\n",
    "PROCESSED_DIR.mkdir(parents=True, exist_ok=True)\n",
    "\n",
    "RAW_PLAYOFFS = Path(config.DATA_RAW_PLAYOFFS)\n",
    "RAW_FINALS = Path(config.DATA_RAW_FINALS)\n",
    "\n",
    "NEO4J_URI = config.NEO4J_URI\n",
    "NEO4J_USER = config.NEO4J_USER\n",
    "NEO4J_PASSWORD = config.NEO4J_PASSWORD\n",
    "\n",
    "RAW_DIR, PROCESSED_DIR, RAW_PLAYOFFS, RAW_FINALS, NEO4J_URI\n"
   ]
  },
  {
   "cell_type": "markdown",
   "id": "83db33d2",
   "metadata": {},
   "source": [
    "## Load into Neo4j (minimal Cypher via Python driver)"
   ]
  },
  {
   "cell_type": "code",
   "execution_count": 35,
   "id": "c6c3d303",
   "metadata": {},
   "outputs": [
    {
     "name": "stdout",
     "output_type": "stream",
     "text": [
      "Connected to Neo4j ✅\n",
      "Constraints ensured ✅\n",
      "Players ingested ✅\n",
      "Games ingested ✅\n",
      "Events ingested ✅\n",
      "IN_GAME relationships ingested ✅\n",
      "NEXT relationships ingested ✅\n",
      "PERFORMED relationships ingested ✅\n"
     ]
    }
   ],
   "source": [
    "\n",
    "from neo4j import GraphDatabase\n",
    "\n",
    "driver = GraphDatabase.driver(NEO4J_URI, auth=(NEO4J_USER, NEO4J_PASSWORD))\n",
    "driver.verify_connectivity()\n",
    "print(\"Connected to Neo4j ✅\")\n",
    "\n",
    "CONSTRAINTS = [\n",
    "    \"CREATE CONSTRAINT player_id IF NOT EXISTS FOR (p:Player) REQUIRE p.player_id IS UNIQUE\",\n",
    "    \"CREATE CONSTRAINT game_id   IF NOT EXISTS FOR (g:Game)   REQUIRE g.game_id IS UNIQUE\",\n",
    "    \"CREATE CONSTRAINT event_id  IF NOT EXISTS FOR (e:Event)  REQUIRE e.event_id IS UNIQUE\",\n",
    "]\n",
    "with driver.session() as session:\n",
    "    for c in CONSTRAINTS:\n",
    "        session.run(c)\n",
    "print(\"Constraints ensured ✅\")\n",
    "\n",
    "# Load CSVs\n",
    "#players = pd.read_csv(PROCESSED_DIR / \"players.csv\")\n",
    "players = pd.read_csv(PROCESSED_DIR / \"players.csv\").dropna()\n",
    "games   = pd.read_csv(PROCESSED_DIR / \"games.csv\")\n",
    "events  = pd.read_csv(PROCESSED_DIR / \"events.csv\")\n",
    "rels_next      = pd.read_csv(PROCESSED_DIR / \"rels_next.csv\")\n",
    "rels_in_game   = pd.read_csv(PROCESSED_DIR / \"rels_in_game.csv\")\n",
    "rels_performed = pd.read_csv(PROCESSED_DIR / \"rels_performed.csv\")\n",
    "\n",
    "events.rename(columns={\"EVENT_ID\":\"event_id\"}, inplace=True)\n",
    "rels_next.rename(columns={\"EVENT_ID\":\"event_id\"}, inplace=True)\n",
    "\n",
    "def iter_batches(df: pd.DataFrame, size: int = 10000):\n",
    "    n = len(df)\n",
    "    if n == 0:\n",
    "        yield df\n",
    "        return\n",
    "    for i in range(0, n, size):\n",
    "        yield df.iloc[i:i+size]\n",
    "\n",
    "# Players\n",
    "CYPHER_PLAYERS = \"\"\"\n",
    "UNWIND $rows AS row\n",
    "MERGE (p:Player {player_id: toString(row.player_id)})\n",
    "  ON CREATE SET p.name = row.name\n",
    "  ON MATCH  SET p.name = coalesce(p.name, row.name)\n",
    "\"\"\"\n",
    "with driver.session() as session:\n",
    "    for batch in iter_batches(players[[\"player_id\",\"name\"]]):\n",
    "        session.run(CYPHER_PLAYERS, rows=batch.to_dict(\"records\"))\n",
    "print(\"Players ingested ✅\")\n",
    "\n",
    "# Games\n",
    "CYPHER_GAMES = \"\"\"\n",
    "UNWIND $rows AS row\n",
    "MERGE (g:Game {game_id: toString(row.game_id)})\n",
    "\"\"\"\n",
    "with driver.session() as session:\n",
    "    for batch in iter_batches(games[[\"game_id\"]]):\n",
    "        session.run(CYPHER_GAMES, rows=batch.to_dict(\"records\"))\n",
    "print(\"Games ingested ✅\")\n",
    "\n",
    "# Events\n",
    "event_cols = [\n",
    "    \"event_id\",\"game_id\",\"PERIOD\",\"SECONDS_LEFT_PERIOD\",\"SECONDS_LEFT_GAME\",\n",
    "    \"EVENTMSGTYPE\",\"EVENTMSGACTIONTYPE\",\"SCORE\",\"SCOREMARGIN\",\n",
    "    \"HOMEDESCRIPTION\",\"VISITORDESCRIPTION\",\"IS_CLUTCH\"\n",
    "]\n",
    "events_for_db = events[event_cols].copy()\n",
    "\n",
    "CYPHER_EVENTS = \"\"\"\n",
    "UNWIND $rows AS row\n",
    "MERGE (e:Event {event_id: row.event_id})\n",
    "ON CREATE SET e.period = row.PERIOD,\n",
    "              e.seconds_left_period = row.SECONDS_LEFT_PERIOD,\n",
    "              e.seconds_left_game   = row.SECONDS_LEFT_GAME,\n",
    "              e.event_type          = row.EVENTMSGTYPE,\n",
    "              e.event_action        = row.EVENTMSGACTIONTYPE,\n",
    "              e.score               = row.SCORE,\n",
    "              e.score_margin        = row.SCOREMARGIN,\n",
    "              e.home_desc           = row.HOMEDESCRIPTION,\n",
    "              e.visit_desc          = row.VISITORDESCRIPTION,\n",
    "              e.is_clutch           = row.IS_CLUTCH\n",
    "ON MATCH  SET e.period = coalesce(e.period, row.PERIOD),\n",
    "              e.seconds_left_period = coalesce(e.seconds_left_period, row.SECONDS_LEFT_PERIOD),\n",
    "              e.seconds_left_game   = coalesce(e.seconds_left_game, row.SECONDS_LEFT_GAME),\n",
    "              e.event_type          = coalesce(e.event_type, row.EVENTMSGTYPE),\n",
    "              e.event_action        = coalesce(e.event_action, row.EVENTMSGACTIONTYPE),\n",
    "              e.score               = coalesce(e.score, row.SCORE),\n",
    "              e.score_margin        = coalesce(e.score_margin, row.SCOREMARGIN),\n",
    "              e.home_desc           = coalesce(e.home_desc, row.HOMEDESCRIPTION),\n",
    "              e.visit_desc          = coalesce(e.visit_desc, row.VISITORDESCRIPTION),\n",
    "              e.is_clutch           = coalesce(e.is_clutch, row.IS_CLUTCH)\n",
    "\"\"\"\n",
    "with driver.session() as session:\n",
    "    for batch in iter_batches(events_for_db, 10000):\n",
    "        session.run(CYPHER_EVENTS, rows=batch.to_dict(\"records\"))\n",
    "print(\"Events ingested ✅\")\n",
    "\n",
    "# IN_GAME\n",
    "rels_in_game = rels_in_game[[\"event_id\",\"game_id\"]].copy()\n",
    "CYPHER_IN_GAME = \"\"\"\n",
    "UNWIND $rows AS row\n",
    "MATCH (e:Event {event_id: row.event_id})\n",
    "MATCH (g:Game  {game_id: toString(row.game_id)})\n",
    "MERGE (e)-[:IN_GAME]->(g)\n",
    "\"\"\"\n",
    "with driver.session() as session:\n",
    "    for batch in iter_batches(rels_in_game, 20000):\n",
    "        session.run(CYPHER_IN_GAME, rows=batch.to_dict(\"records\"))\n",
    "print(\"IN_GAME relationships ingested ✅\")\n",
    "\n",
    "# NEXT\n",
    "rels_next_clean = rels_next.dropna(subset=[\"NEXT_EVENT_ID\"]).copy()\n",
    "rels_next_clean[\"NEXT_EVENT_ID\"] = rels_next_clean[\"NEXT_EVENT_ID\"].astype(str)\n",
    "CYPHER_NEXT = \"\"\"\n",
    "UNWIND $rows AS row\n",
    "MATCH (e1:Event {event_id: row.event_id})\n",
    "MATCH (e2:Event {event_id: row.NEXT_EVENT_ID})\n",
    "MERGE (e1)-[:NEXT]->(e2)\n",
    "\"\"\"\n",
    "with driver.session() as session:\n",
    "    for batch in iter_batches(rels_next_clean[[\"event_id\",\"NEXT_EVENT_ID\"]], 20000):\n",
    "        session.run(CYPHER_NEXT, rows=batch.to_dict(\"records\"))\n",
    "print(\"NEXT relationships ingested ✅\")\n",
    "\n",
    "# PERFORMED\n",
    "rels_performed[\"player_id\"] = rels_performed[\"player_id\"].astype(str)\n",
    "rels_performed[\"event_id\"]  = rels_performed[\"event_id\"].astype(str)\n",
    "rels_performed[\"role\"] = rels_performed[\"role\"].astype(str)\n",
    "CYPHER_PERFORMED = \"\"\"\n",
    "UNWIND $rows AS row\n",
    "MATCH (p:Player {player_id: row.player_id})\n",
    "MATCH (e:Event  {event_id: row.event_id})\n",
    "MERGE (p)-[:PERFORMED {role: row.role}]->(e)\n",
    "\"\"\"\n",
    "with driver.session() as session:\n",
    "    for batch in iter_batches(rels_performed[[\"player_id\",\"event_id\",\"role\"]], 20000):\n",
    "        session.run(CYPHER_PERFORMED, rows=batch.to_dict(\"records\"))\n",
    "print(\"PERFORMED relationships ingested ✅\")\n"
   ]
  },
  {
   "cell_type": "code",
   "execution_count": 36,
   "id": "dfe27181",
   "metadata": {},
   "outputs": [
    {
     "name": "stdout",
     "output_type": "stream",
     "text": [
      "Will ingest PERFORMED rows: 7824\n"
     ]
    }
   ],
   "source": [
    "# Re-load to be safe\n",
    "import pandas as pd, os, config\n",
    "from neo4j import GraphDatabase\n",
    "\n",
    "rels_performed = pd.read_csv(os.path.join(config.DATA_PROCESSED_DIR, \"rels_performed.csv\")).dropna()\n",
    "rels_performed[\"player_id\"] = rels_performed[\"player_id\"].astype(str)\n",
    "rels_performed[\"event_id\"]  = rels_performed[\"event_id\"].astype(str)\n",
    "rels_performed[\"role\"]      = rels_performed[\"role\"].astype(str)\n",
    "\n",
    "print(\"Will ingest PERFORMED rows:\", len(rels_performed))\n",
    "\n",
    "driver = GraphDatabase.driver(config.NEO4J_URI, auth=(config.NEO4J_USER, config.NEO4J_PASSWORD))\n",
    "\n",
    "def iter_batches(df, size=20000):\n",
    "    n = len(df)\n",
    "    for i in range(0, n, size):\n",
    "        yield df.iloc[i:i+size]\n",
    "\n",
    "# IMPORTANT: Use MERGE with properties so shooter/assister become separate edges if needed\n",
    "CYPHER_PERFORMED = \"\"\"\n",
    "UNWIND $rows AS row\n",
    "MATCH (p:Player {player_id: row.player_id})\n",
    "MATCH (e:Event  {event_id: row.event_id})\n",
    "MERGE (p)-[r:PERFORMED {role: row.role}]->(e)\n",
    "\"\"\"\n",
    "\n",
    "with driver.session() as session:\n",
    "    for batch in iter_batches(rels_performed[[\"player_id\",\"event_id\",\"role\"]]):\n",
    "        session.run(CYPHER_PERFORMED, rows=batch.to_dict(\"records\"))\n",
    "\n",
    "\n",
    "driver.close()"
   ]
  },
  {
   "cell_type": "markdown",
   "id": "bcd12ebf",
   "metadata": {},
   "source": [
    "## Sanity checks & example queries"
   ]
  },
  {
   "cell_type": "code",
   "execution_count": 37,
   "id": "8af7300b",
   "metadata": {},
   "outputs": [
    {
     "name": "stderr",
     "output_type": "stream",
     "text": [
      "/var/folders/bf/2ywdfn4j5v990hqqjj51yjyc0000gn/T/ipykernel_65194/4149226833.py:2: DeprecationWarning: Using a driver after it has been closed is deprecated. Future versions of the driver will raise an error.\n",
      "  with driver.session() as session:\n"
     ]
    },
    {
     "data": {
      "text/plain": [
       "{'games': 6, 'players': 22, 'events': 2608}"
      ]
     },
     "execution_count": 37,
     "metadata": {},
     "output_type": "execute_result"
    }
   ],
   "source": [
    "\n",
    "# Node counts\n",
    "with driver.session() as session:\n",
    "    counts = session.run(\"\"\"\n",
    "    MATCH (g:Game)   WITH count(g) AS g\n",
    "    MATCH (p:Player) WITH g, count(p) AS p\n",
    "    MATCH (e:Event)  RETURN g AS games, p AS players, count(e) AS events\n",
    "    \"\"\").data()[0]\n",
    "counts\n"
   ]
  },
  {
   "cell_type": "code",
   "execution_count": 38,
   "id": "6792c9ee",
   "metadata": {},
   "outputs": [
    {
     "name": "stderr",
     "output_type": "stream",
     "text": [
      "/var/folders/bf/2ywdfn4j5v990hqqjj51yjyc0000gn/T/ipykernel_65194/2100576386.py:11: DeprecationWarning: Using a driver after it has been closed is deprecated. Future versions of the driver will raise an error.\n",
      "  with driver.session() as session:\n"
     ]
    },
    {
     "data": {
      "text/plain": [
       "[{'game': '49600088',\n",
       "  'period': 4,\n",
       "  'sec_left': 5,\n",
       "  'score': '86 - 88',\n",
       "  'margin': 2.0,\n",
       "  'home_desc': \"Kerr 14' Jump Shot (9 PTS) (Jordan 4 AST)\",\n",
       "  'visit_desc': nan}]"
      ]
     },
     "execution_count": 38,
     "metadata": {},
     "output_type": "execute_result"
    }
   ],
   "source": [
    "\n",
    "# Steve Kerr clutch made shots (EVENTMSGTYPE=1)\n",
    "query = \"\"\"\n",
    "MATCH (p:Player {name: 'Steve Kerr'})-[:PERFORMED]->(e:Event {is_clutch: true})\n",
    "MATCH (e)-[:IN_GAME]->(g:Game)\n",
    "WHERE e.event_type = 1\n",
    "RETURN g.game_id AS game, e.period AS period, e.seconds_left_period AS sec_left,\n",
    "       e.score AS score, e.score_margin AS margin, e.home_desc AS home_desc, e.visit_desc AS visit_desc\n",
    "ORDER BY game, period DESC, sec_left\n",
    "LIMIT 10\n",
    "\"\"\"\n",
    "with driver.session() as session:\n",
    "    rows = session.run(query).data()\n",
    "rows\n"
   ]
  },
  {
   "cell_type": "code",
   "execution_count": 39,
   "id": "dcba958a",
   "metadata": {},
   "outputs": [
    {
     "name": "stderr",
     "output_type": "stream",
     "text": [
      "/var/folders/bf/2ywdfn4j5v990hqqjj51yjyc0000gn/T/ipykernel_65194/482517669.py:13: DeprecationWarning: Using a driver after it has been closed is deprecated. Future versions of the driver will raise an error.\n",
      "  with driver.session() as session:\n"
     ]
    },
    {
     "data": {
      "text/plain": [
       "[{'game': '49600088',\n",
       "  'scorer': 'Steve Kerr',\n",
       "  'assister': 'Michael Jordan',\n",
       "  'period': 4,\n",
       "  'sec_left': 5,\n",
       "  'score': '86 - 88',\n",
       "  'margin': 2.0,\n",
       "  'home_desc': \"Kerr 14' Jump Shot (9 PTS) (Jordan 4 AST)\",\n",
       "  'visit_desc': nan}]"
      ]
     },
     "execution_count": 39,
     "metadata": {},
     "output_type": "execute_result"
    }
   ],
   "source": [
    "\n",
    "# Non-Jordan clutch makes assisted by Jordan\n",
    "query = \"\"\"\n",
    "MATCH (e:Event {is_clutch: true, event_type: 1})-[:IN_GAME]->(g:Game)\n",
    "MATCH (mj:Player {name: 'Michael Jordan'})-[:PERFORMED {role:'PLAYER2_ID'}]->(e)\n",
    "MATCH (scorer:Player)-[:PERFORMED {role:'PLAYER1_ID'}]->(e)\n",
    "WHERE scorer.name <> 'Michael Jordan'\n",
    "RETURN g.game_id AS game, scorer.name AS scorer, mj.name AS assister,\n",
    "       e.period AS period, e.seconds_left_period AS sec_left,\n",
    "       e.score AS score, e.score_margin AS margin, e.home_desc AS home_desc, e.visit_desc AS visit_desc\n",
    "ORDER BY game, sec_left\n",
    "LIMIT 10\n",
    "\"\"\"\n",
    "with driver.session() as session:\n",
    "    rows = session.run(query).data()\n",
    "rows\n"
   ]
  },
  {
   "cell_type": "code",
   "execution_count": null,
   "id": "b6a13d08",
   "metadata": {},
   "outputs": [],
   "source": []
  },
  {
   "cell_type": "code",
   "execution_count": null,
   "id": "2dbb3780",
   "metadata": {},
   "outputs": [],
   "source": []
  },
  {
   "cell_type": "code",
   "execution_count": null,
   "id": "54e0fa07",
   "metadata": {},
   "outputs": [],
   "source": []
  }
 ],
 "metadata": {
  "kernelspec": {
   "display_name": "genai-gr",
   "language": "python",
   "name": "python3"
  },
  "language_info": {
   "codemirror_mode": {
    "name": "ipython",
    "version": 3
   },
   "file_extension": ".py",
   "mimetype": "text/x-python",
   "name": "python",
   "nbconvert_exporter": "python",
   "pygments_lexer": "ipython3",
   "version": "3.10.16"
  }
 },
 "nbformat": 4,
 "nbformat_minor": 5
}
