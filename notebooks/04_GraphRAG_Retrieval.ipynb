{
 "cells": [
  {
   "cell_type": "markdown",
   "id": "4294f6aa",
   "metadata": {},
   "source": [
    "\n",
    "# Graph RAG Showcase — Chicago Bulls Finals\n",
    "\n",
    "This notebook demonstrates **why graph-based retrieval matters** using your Neo4j graph built from the 1997 NBA Finals (Bulls–Jazz).\n",
    "\n",
    "**What you'll see:**\n",
    "1. *Clutch role-player makes assisted by Jordan* (precision via relationships).\n",
    "2. *Sequence logic:* defensive stop → go-ahead basket in final minute.\n",
    "3. *Lead-change moments* discovered via event chains and score margin.\n",
    "4. *Assist chains in clutch time* (who enabled whom).\n",
    "5. *Narrative path for Game 6 (1997):* last 30 seconds as a traversable chain.\n"
   ]
  },
  {
   "cell_type": "code",
   "execution_count": 7,
   "id": "90602c37",
   "metadata": {},
   "outputs": [
    {
     "name": "stdout",
     "output_type": "stream",
     "text": [
      "Connected to Neo4j ✅\n"
     ]
    }
   ],
   "source": [
    "\n",
    "# If needed:\n",
    "# %pip install pandas neo4j python-dotenv matplotlib\n",
    "\n",
    "import os\n",
    "from pathlib import Path\n",
    "import pandas as pd\n",
    "from neo4j import GraphDatabase\n",
    "\n",
    "# Locate repo root and import config.py (assumes this notebook lives in notebooks/)\n",
    "import sys\n",
    "repo_root = Path(\"..\").resolve()\n",
    "sys.path.append(str(repo_root))\n",
    "import config\n",
    "\n",
    "NEO4J_URI = config.NEO4J_URI\n",
    "NEO4J_USER = config.NEO4J_USER\n",
    "NEO4J_PASSWORD = config.NEO4J_PASSWORD\n",
    "\n",
    "driver = GraphDatabase.driver(NEO4J_URI, auth=(NEO4J_USER, NEO4J_PASSWORD))\n",
    "driver.verify_connectivity()\n",
    "print(\"Connected to Neo4j ✅\")\n"
   ]
  },
  {
   "cell_type": "code",
   "execution_count": 8,
   "id": "8f102844",
   "metadata": {},
   "outputs": [],
   "source": [
    "\n",
    "def cypher_df(query: str, params: dict | None = None) -> pd.DataFrame:\n",
    "    with driver.session() as session:\n",
    "        data = session.run(query, params or {}).data()\n",
    "    if not data:\n",
    "        return pd.DataFrame()\n",
    "    return pd.DataFrame(data)\n"
   ]
  },
  {
   "cell_type": "markdown",
   "id": "b4818601",
   "metadata": {},
   "source": [
    "### Debug"
   ]
  },
  {
   "cell_type": "code",
   "execution_count": 9,
   "id": "2f74c282",
   "metadata": {},
   "outputs": [
    {
     "data": {
      "text/html": [
       "<div>\n",
       "<style scoped>\n",
       "    .dataframe tbody tr th:only-of-type {\n",
       "        vertical-align: middle;\n",
       "    }\n",
       "\n",
       "    .dataframe tbody tr th {\n",
       "        vertical-align: top;\n",
       "    }\n",
       "\n",
       "    .dataframe thead th {\n",
       "        text-align: right;\n",
       "    }\n",
       "</style>\n",
       "<table border=\"1\" class=\"dataframe\">\n",
       "  <thead>\n",
       "    <tr style=\"text-align: right;\">\n",
       "      <th></th>\n",
       "      <th>type</th>\n",
       "      <th>cnt</th>\n",
       "    </tr>\n",
       "  </thead>\n",
       "  <tbody>\n",
       "    <tr>\n",
       "      <th>0</th>\n",
       "      <td>PERFORMED</td>\n",
       "      <td>3008</td>\n",
       "    </tr>\n",
       "    <tr>\n",
       "      <th>1</th>\n",
       "      <td>IN_GAME</td>\n",
       "      <td>2608</td>\n",
       "    </tr>\n",
       "    <tr>\n",
       "      <th>2</th>\n",
       "      <td>NEXT</td>\n",
       "      <td>2602</td>\n",
       "    </tr>\n",
       "  </tbody>\n",
       "</table>\n",
       "</div>"
      ],
      "text/plain": [
       "        type   cnt\n",
       "0  PERFORMED  3008\n",
       "1    IN_GAME  2608\n",
       "2       NEXT  2602"
      ]
     },
     "execution_count": 9,
     "metadata": {},
     "output_type": "execute_result"
    }
   ],
   "source": [
    "cypher_df(\"MATCH ()-[r]->() RETURN type(r) AS type, count(*) AS cnt ORDER BY cnt DESC\")"
   ]
  },
  {
   "cell_type": "code",
   "execution_count": 10,
   "id": "021e96a3",
   "metadata": {},
   "outputs": [
    {
     "data": {
      "text/html": [
       "<div>\n",
       "<style scoped>\n",
       "    .dataframe tbody tr th:only-of-type {\n",
       "        vertical-align: middle;\n",
       "    }\n",
       "\n",
       "    .dataframe tbody tr th {\n",
       "        vertical-align: top;\n",
       "    }\n",
       "\n",
       "    .dataframe thead th {\n",
       "        text-align: right;\n",
       "    }\n",
       "</style>\n",
       "<table border=\"1\" class=\"dataframe\">\n",
       "  <thead>\n",
       "    <tr style=\"text-align: right;\">\n",
       "      <th></th>\n",
       "      <th>performed_count</th>\n",
       "    </tr>\n",
       "  </thead>\n",
       "  <tbody>\n",
       "    <tr>\n",
       "      <th>0</th>\n",
       "      <td>3008</td>\n",
       "    </tr>\n",
       "  </tbody>\n",
       "</table>\n",
       "</div>"
      ],
      "text/plain": [
       "   performed_count\n",
       "0             3008"
      ]
     },
     "execution_count": 10,
     "metadata": {},
     "output_type": "execute_result"
    }
   ],
   "source": [
    "cypher_df(\"MATCH ()-[r:PERFORMED]->() RETURN count(r) AS performed_count\")\n"
   ]
  },
  {
   "cell_type": "markdown",
   "id": "4e919e9d",
   "metadata": {},
   "source": [
    "## 1) Clutch role-player makes assisted by Jordan (Finals)"
   ]
  },
  {
   "cell_type": "code",
   "execution_count": 11,
   "id": "10251cfd",
   "metadata": {},
   "outputs": [
    {
     "data": {
      "text/html": [
       "<div>\n",
       "<style scoped>\n",
       "    .dataframe tbody tr th:only-of-type {\n",
       "        vertical-align: middle;\n",
       "    }\n",
       "\n",
       "    .dataframe tbody tr th {\n",
       "        vertical-align: top;\n",
       "    }\n",
       "\n",
       "    .dataframe thead th {\n",
       "        text-align: right;\n",
       "    }\n",
       "</style>\n",
       "<table border=\"1\" class=\"dataframe\">\n",
       "  <thead>\n",
       "    <tr style=\"text-align: right;\">\n",
       "      <th></th>\n",
       "      <th>game</th>\n",
       "      <th>scorer</th>\n",
       "      <th>assister</th>\n",
       "      <th>period</th>\n",
       "      <th>sec_left</th>\n",
       "      <th>score</th>\n",
       "      <th>margin</th>\n",
       "      <th>e.is_clutch</th>\n",
       "      <th>desc</th>\n",
       "    </tr>\n",
       "  </thead>\n",
       "  <tbody>\n",
       "    <tr>\n",
       "      <th>0</th>\n",
       "      <td>49600088</td>\n",
       "      <td>Steve Kerr</td>\n",
       "      <td>Michael Jordan</td>\n",
       "      <td>4</td>\n",
       "      <td>5</td>\n",
       "      <td>86 - 88</td>\n",
       "      <td>2.0</td>\n",
       "      <td>True</td>\n",
       "      <td>Kerr 14' Jump Shot (9 PTS) (Jordan 4 AST)</td>\n",
       "    </tr>\n",
       "  </tbody>\n",
       "</table>\n",
       "</div>"
      ],
      "text/plain": [
       "       game      scorer        assister  period  sec_left    score  margin  \\\n",
       "0  49600088  Steve Kerr  Michael Jordan       4         5  86 - 88     2.0   \n",
       "\n",
       "   e.is_clutch                                       desc  \n",
       "0         True  Kerr 14' Jump Shot (9 PTS) (Jordan 4 AST)  "
      ]
     },
     "execution_count": 11,
     "metadata": {},
     "output_type": "execute_result"
    }
   ],
   "source": [
    "\n",
    "query = '''\n",
    "MATCH (e:Event {is_clutch: true, event_type: 1})-[:IN_GAME]->(g:Game)\n",
    "MATCH (assister:Player {name: \"Michael Jordan\"})-[:PERFORMED]->(e)\n",
    "MATCH (scorer:Player)-[:PERFORMED {role:\"PLAYER1_ID\"}]->(e)\n",
    "WHERE scorer.name <> \"Michael Jordan\"\n",
    "  AND EXISTS {\n",
    "    MATCH (assister)-[r:PERFORMED]->(e)\n",
    "    WHERE r.role IN [\"PLAYER2_ID\",\"PLAYER3_ID\"]\n",
    "  }\n",
    "RETURN g.game_id AS game,\n",
    "       scorer.name AS scorer,\n",
    "       assister.name AS assister,\n",
    "       e.period AS period,\n",
    "       e.seconds_left_period AS sec_left,\n",
    "       e.score AS score,\n",
    "       e.score_margin AS margin,\n",
    "       e.is_clutch,\n",
    "       coalesce(e.home_desc, e.visit_desc) AS desc\n",
    "ORDER BY game, sec_left\n",
    "'''\n",
    "df1 = cypher_df(query)\n",
    "df1\n"
   ]
  },
  {
   "cell_type": "markdown",
   "id": "1dbdf052",
   "metadata": {},
   "source": [
    "\n",
    "**Why this matters:** vanilla RAG cannot *reliably* answer \"find clutch shots **assisted by Jordan** and **scored by someone else**\" without fragile text heuristics. The graph uses **explicit relationships** (`PERFORMED` roles + `IN_GAME`) to retrieve the correct events deterministically.\n"
   ]
  },
  {
   "cell_type": "markdown",
   "id": "bf984d52",
   "metadata": {},
   "source": [
    "## 2) Sequence logic: Defensive rebound → go-ahead make in final minute"
   ]
  },
  {
   "cell_type": "code",
   "execution_count": 12,
   "id": "cee1602b",
   "metadata": {},
   "outputs": [
    {
     "data": {
      "text/html": [
       "<div>\n",
       "<style scoped>\n",
       "    .dataframe tbody tr th:only-of-type {\n",
       "        vertical-align: middle;\n",
       "    }\n",
       "\n",
       "    .dataframe tbody tr th {\n",
       "        vertical-align: top;\n",
       "    }\n",
       "\n",
       "    .dataframe thead th {\n",
       "        text-align: right;\n",
       "    }\n",
       "</style>\n",
       "<table border=\"1\" class=\"dataframe\">\n",
       "  <thead>\n",
       "    <tr style=\"text-align: right;\">\n",
       "      <th></th>\n",
       "      <th>game</th>\n",
       "      <th>period</th>\n",
       "      <th>sec_left_before</th>\n",
       "      <th>rebound_desc</th>\n",
       "      <th>sec_left_shot</th>\n",
       "      <th>make_desc</th>\n",
       "      <th>score_after</th>\n",
       "      <th>margin_after</th>\n",
       "    </tr>\n",
       "  </thead>\n",
       "  <tbody>\n",
       "    <tr>\n",
       "      <th>0</th>\n",
       "      <td>49600087</td>\n",
       "      <td>4</td>\n",
       "      <td>42</td>\n",
       "      <td>NaN</td>\n",
       "      <td>25</td>\n",
       "      <td>NaN</td>\n",
       "      <td>88 - 85</td>\n",
       "      <td>-3.0</td>\n",
       "    </tr>\n",
       "  </tbody>\n",
       "</table>\n",
       "</div>"
      ],
      "text/plain": [
       "       game  period  sec_left_before  rebound_desc  sec_left_shot  make_desc  \\\n",
       "0  49600087       4               42           NaN             25        NaN   \n",
       "\n",
       "  score_after  margin_after  \n",
       "0     88 - 85          -3.0  "
      ]
     },
     "execution_count": 12,
     "metadata": {},
     "output_type": "execute_result"
    }
   ],
   "source": [
    "\n",
    "query = '''\n",
    "// Defensive rebound (event_type=4) immediately followed by a made shot (event_type=1) in clutch window\n",
    "MATCH (r:Event {event_type: 4})-[:NEXT]->(m:Event {event_type: 1, is_clutch: true})\n",
    "MATCH (r)-[:IN_GAME]->(g:Game)\n",
    "RETURN g.game_id AS game,\n",
    "       r.period  AS period,\n",
    "       r.seconds_left_period AS sec_left_before,\n",
    "       coalesce(r.home_desc, r.visit_desc) AS rebound_desc,\n",
    "       m.seconds_left_period AS sec_left_shot,\n",
    "       coalesce(m.home_desc, m.visit_desc) AS make_desc,\n",
    "       m.score AS score_after,\n",
    "       m.score_margin AS margin_after\n",
    "ORDER BY game, sec_left_shot\n",
    "LIMIT 20\n",
    "'''\n",
    "df2 = cypher_df(query)\n",
    "df2\n"
   ]
  },
  {
   "cell_type": "markdown",
   "id": "5d4d6cce",
   "metadata": {},
   "source": [
    "\n",
    "**Why this matters:** *sequence* questions are where graphs shine. We traverse `(:Event)-[:NEXT]->(:Event)` to reason about **causality-like chains** (stop → score) that are brittle in flat text search.\n"
   ]
  },
  {
   "cell_type": "markdown",
   "id": "ae04a6bd",
   "metadata": {},
   "source": [
    "## 3) Lead-change moments via score margin swing"
   ]
  },
  {
   "cell_type": "code",
   "execution_count": 13,
   "id": "b71bb52e",
   "metadata": {},
   "outputs": [
    {
     "data": {
      "text/html": [
       "<div>\n",
       "<style scoped>\n",
       "    .dataframe tbody tr th:only-of-type {\n",
       "        vertical-align: middle;\n",
       "    }\n",
       "\n",
       "    .dataframe tbody tr th {\n",
       "        vertical-align: top;\n",
       "    }\n",
       "\n",
       "    .dataframe thead th {\n",
       "        text-align: right;\n",
       "    }\n",
       "</style>\n",
       "<table border=\"1\" class=\"dataframe\">\n",
       "  <thead>\n",
       "    <tr style=\"text-align: right;\">\n",
       "      <th></th>\n",
       "    </tr>\n",
       "  </thead>\n",
       "  <tbody>\n",
       "  </tbody>\n",
       "</table>\n",
       "</div>"
      ],
      "text/plain": [
       "Empty DataFrame\n",
       "Columns: []\n",
       "Index: []"
      ]
     },
     "execution_count": 13,
     "metadata": {},
     "output_type": "execute_result"
    }
   ],
   "source": [
    "\n",
    "# Find made shots that flip the sign of score_margin compared to the previous event\n",
    "query = '''\n",
    "MATCH (prev:Event)-[:NEXT]->(e:Event {event_type: 1})\n",
    "WHERE prev.game_id = e.game_id\n",
    "  AND prev.score_margin IS NOT NULL AND e.score_margin IS NOT NULL\n",
    "  AND prev.period = e.period\n",
    "  AND sign(prev.score_margin) <> sign(e.score_margin)\n",
    "MATCH (e)-[:IN_GAME]->(g:Game)\n",
    "OPTIONAL MATCH (scorer:Player)-[:PERFORMED {role:\"PLAYER1_ID\"}]->(e)\n",
    "RETURN g.game_id AS game,\n",
    "       e.period AS period,\n",
    "       e.seconds_left_period AS sec_left,\n",
    "       scorer.name AS scorer,\n",
    "       prev.score AS score_before,\n",
    "       e.score AS score_after,\n",
    "       prev.score_margin AS margin_before,\n",
    "       e.score_margin AS margin_after,\n",
    "       coalesce(e.home_desc, e.visit_desc) AS desc\n",
    "ORDER BY game, sec_left\n",
    "LIMIT 25\n",
    "'''\n",
    "df3 = cypher_df(query)\n",
    "df3\n"
   ]
  },
  {
   "cell_type": "markdown",
   "id": "5f2b5618",
   "metadata": {},
   "source": [
    "\n",
    "**Why this matters:** we’re mixing **properties** (score margins) with **structure** (`NEXT`) to detect *lead changes* directly—no NLP required.\n"
   ]
  },
  {
   "cell_type": "markdown",
   "id": "fc71119d",
   "metadata": {},
   "source": [
    "## 4) Assist chains in clutch time (who enabled whom)"
   ]
  },
  {
   "cell_type": "code",
   "execution_count": 14,
   "id": "34fe7abf",
   "metadata": {},
   "outputs": [
    {
     "data": {
      "text/html": [
       "<div>\n",
       "<style scoped>\n",
       "    .dataframe tbody tr th:only-of-type {\n",
       "        vertical-align: middle;\n",
       "    }\n",
       "\n",
       "    .dataframe tbody tr th {\n",
       "        vertical-align: top;\n",
       "    }\n",
       "\n",
       "    .dataframe thead th {\n",
       "        text-align: right;\n",
       "    }\n",
       "</style>\n",
       "<table border=\"1\" class=\"dataframe\">\n",
       "  <thead>\n",
       "    <tr style=\"text-align: right;\">\n",
       "      <th></th>\n",
       "      <th>game</th>\n",
       "      <th>period</th>\n",
       "      <th>sec_left</th>\n",
       "      <th>scorer</th>\n",
       "      <th>assister</th>\n",
       "      <th>score</th>\n",
       "      <th>margin</th>\n",
       "      <th>desc</th>\n",
       "    </tr>\n",
       "  </thead>\n",
       "  <tbody>\n",
       "    <tr>\n",
       "      <th>0</th>\n",
       "      <td>49600083</td>\n",
       "      <td>4</td>\n",
       "      <td>0</td>\n",
       "      <td>Michael Jordan</td>\n",
       "      <td>None</td>\n",
       "      <td>82 - 84</td>\n",
       "      <td>2.0</td>\n",
       "      <td>Jordan 19' Jump Shot (31 PTS)</td>\n",
       "    </tr>\n",
       "    <tr>\n",
       "      <th>1</th>\n",
       "      <td>49600087</td>\n",
       "      <td>4</td>\n",
       "      <td>6</td>\n",
       "      <td>Luc Longley</td>\n",
       "      <td>Toni Kukoc</td>\n",
       "      <td>90 - 87</td>\n",
       "      <td>-3.0</td>\n",
       "      <td>NaN</td>\n",
       "    </tr>\n",
       "    <tr>\n",
       "      <th>2</th>\n",
       "      <td>49600087</td>\n",
       "      <td>4</td>\n",
       "      <td>15</td>\n",
       "      <td>Greg Ostertag</td>\n",
       "      <td>John Stockton</td>\n",
       "      <td>88 - 87</td>\n",
       "      <td>-1.0</td>\n",
       "      <td>Ostertag  Layup (13 PTS) (Stockton 5 AST)</td>\n",
       "    </tr>\n",
       "    <tr>\n",
       "      <th>3</th>\n",
       "      <td>49600087</td>\n",
       "      <td>4</td>\n",
       "      <td>25</td>\n",
       "      <td>Michael Jordan</td>\n",
       "      <td>Scottie Pippen</td>\n",
       "      <td>88 - 85</td>\n",
       "      <td>-3.0</td>\n",
       "      <td>NaN</td>\n",
       "    </tr>\n",
       "    <tr>\n",
       "      <th>4</th>\n",
       "      <td>49600088</td>\n",
       "      <td>4</td>\n",
       "      <td>5</td>\n",
       "      <td>Steve Kerr</td>\n",
       "      <td>Michael Jordan</td>\n",
       "      <td>86 - 88</td>\n",
       "      <td>2.0</td>\n",
       "      <td>Kerr 14' Jump Shot (9 PTS) (Jordan 4 AST)</td>\n",
       "    </tr>\n",
       "  </tbody>\n",
       "</table>\n",
       "</div>"
      ],
      "text/plain": [
       "       game  period  sec_left          scorer        assister    score  \\\n",
       "0  49600083       4         0  Michael Jordan            None  82 - 84   \n",
       "1  49600087       4         6     Luc Longley      Toni Kukoc  90 - 87   \n",
       "2  49600087       4        15   Greg Ostertag   John Stockton  88 - 87   \n",
       "3  49600087       4        25  Michael Jordan  Scottie Pippen  88 - 85   \n",
       "4  49600088       4         5      Steve Kerr  Michael Jordan  86 - 88   \n",
       "\n",
       "   margin                                       desc  \n",
       "0     2.0              Jordan 19' Jump Shot (31 PTS)  \n",
       "1    -3.0                                        NaN  \n",
       "2    -1.0  Ostertag  Layup (13 PTS) (Stockton 5 AST)  \n",
       "3    -3.0                                        NaN  \n",
       "4     2.0  Kerr 14' Jump Shot (9 PTS) (Jordan 4 AST)  "
      ]
     },
     "execution_count": 14,
     "metadata": {},
     "output_type": "execute_result"
    }
   ],
   "source": [
    "\n",
    "query = '''\n",
    "MATCH (e:Event {is_clutch: true, event_type: 1})-[:IN_GAME]->(g:Game)\n",
    "MATCH (scorer:Player)-[:PERFORMED {role:\"PLAYER1_ID\"}]->(e)\n",
    "OPTIONAL MATCH (assister:Player)-[:PERFORMED {role:\"PLAYER2_ID\"}]->(e)\n",
    "RETURN g.game_id AS game,\n",
    "       e.period AS period,\n",
    "       e.seconds_left_period AS sec_left,\n",
    "       scorer.name AS scorer,\n",
    "       assister.name AS assister,\n",
    "       e.score AS score,\n",
    "       e.score_margin AS margin,\n",
    "       coalesce(e.home_desc, e.visit_desc) AS desc\n",
    "ORDER BY game, sec_left\n",
    "'''\n",
    "df4 = cypher_df(query)\n",
    "df4\n"
   ]
  },
  {
   "cell_type": "markdown",
   "id": "be6440a5",
   "metadata": {},
   "source": [
    "\n",
    "**Why this matters:** explicit **role-typed edges** let us ask *who enabled whom* at decisive moments—a natural fit for **knowledge graphs** and Graph RAG.\n"
   ]
  },
  {
   "cell_type": "markdown",
   "id": "83016282",
   "metadata": {},
   "source": [
    "## 5) Narrative path — final 30s of Game 6 (1997)"
   ]
  },
  {
   "cell_type": "code",
   "execution_count": 15,
   "id": "7eb96dd3",
   "metadata": {},
   "outputs": [
    {
     "name": "stderr",
     "output_type": "stream",
     "text": [
      "Received notification from DBMS server: {severity: WARNING} {code: Neo.ClientNotification.Statement.FeatureDeprecationWarning} {category: DEPRECATION} {title: This feature is deprecated and will be removed in future versions.} {description: CALL subquery without a variable scope clause is now deprecated. Use CALL (start) { ... }} {position: line: 6, column: 1, offset: 138} for query: '\\nMATCH (start:Event {is_clutch: true})-[:IN_GAME]->(g:Game {game_id: $gid})\\nWITH g, start\\nORDER BY start.seconds_left_period DESC\\nLIMIT 1\\nCALL {\\n  WITH start\\n  MATCH p = (start)-[:NEXT*0..20]->(e:Event)\\n  WHERE e.is_clutch = true OR e.seconds_left_period <= start.seconds_left_period\\n  RETURN p\\n  ORDER BY length(p) DESC\\n  LIMIT 1\\n}\\nUNWIND nodes(p) AS ev\\nRETURN ev.event_id AS event_id,\\n       ev.period AS period,\\n       ev.seconds_left_period AS sec_left,\\n       ev.event_type AS type,\\n       coalesce(ev.home_desc, ev.visit_desc) AS desc,\\n       ev.score AS score,\\n       ev.score_margin AS margin\\nORDER BY period DESC, sec_left\\n'\n"
     ]
    },
    {
     "data": {
      "text/html": [
       "<div>\n",
       "<style scoped>\n",
       "    .dataframe tbody tr th:only-of-type {\n",
       "        vertical-align: middle;\n",
       "    }\n",
       "\n",
       "    .dataframe tbody tr th {\n",
       "        vertical-align: top;\n",
       "    }\n",
       "\n",
       "    .dataframe thead th {\n",
       "        text-align: right;\n",
       "    }\n",
       "</style>\n",
       "<table border=\"1\" class=\"dataframe\">\n",
       "  <thead>\n",
       "    <tr style=\"text-align: right;\">\n",
       "      <th></th>\n",
       "      <th>event_id</th>\n",
       "      <th>period</th>\n",
       "      <th>sec_left</th>\n",
       "      <th>type</th>\n",
       "      <th>desc</th>\n",
       "      <th>score</th>\n",
       "      <th>margin</th>\n",
       "    </tr>\n",
       "  </thead>\n",
       "  <tbody>\n",
       "    <tr>\n",
       "      <th>0</th>\n",
       "      <td>49600088_460</td>\n",
       "      <td>4</td>\n",
       "      <td>0</td>\n",
       "      <td>1</td>\n",
       "      <td>Kukoc  Layup (9 PTS) (Pippen 2 AST)</td>\n",
       "      <td>86 - 90</td>\n",
       "      <td>4.0</td>\n",
       "    </tr>\n",
       "    <tr>\n",
       "      <th>1</th>\n",
       "      <td>49600088_461</td>\n",
       "      <td>4</td>\n",
       "      <td>0</td>\n",
       "      <td>13</td>\n",
       "      <td>NaN</td>\n",
       "      <td>86 - 90</td>\n",
       "      <td>4.0</td>\n",
       "    </tr>\n",
       "    <tr>\n",
       "      <th>2</th>\n",
       "      <td>49600088_459</td>\n",
       "      <td>4</td>\n",
       "      <td>4</td>\n",
       "      <td>5</td>\n",
       "      <td>Pippen STEAL (2 STL)</td>\n",
       "      <td>NaN</td>\n",
       "      <td>2.0</td>\n",
       "    </tr>\n",
       "    <tr>\n",
       "      <th>3</th>\n",
       "      <td>49600088_456</td>\n",
       "      <td>4</td>\n",
       "      <td>5</td>\n",
       "      <td>1</td>\n",
       "      <td>Kerr 14' Jump Shot (9 PTS) (Jordan 4 AST)</td>\n",
       "      <td>86 - 88</td>\n",
       "      <td>2.0</td>\n",
       "    </tr>\n",
       "    <tr>\n",
       "      <th>4</th>\n",
       "      <td>49600088_457</td>\n",
       "      <td>4</td>\n",
       "      <td>5</td>\n",
       "      <td>9</td>\n",
       "      <td>NaN</td>\n",
       "      <td>NaN</td>\n",
       "      <td>2.0</td>\n",
       "    </tr>\n",
       "    <tr>\n",
       "      <th>5</th>\n",
       "      <td>49600088_458</td>\n",
       "      <td>4</td>\n",
       "      <td>5</td>\n",
       "      <td>7</td>\n",
       "      <td>BULLS Violation: Delay of game Violation</td>\n",
       "      <td>NaN</td>\n",
       "      <td>2.0</td>\n",
       "    </tr>\n",
       "    <tr>\n",
       "      <th>6</th>\n",
       "      <td>49600088_453</td>\n",
       "      <td>4</td>\n",
       "      <td>28</td>\n",
       "      <td>2</td>\n",
       "      <td>NaN</td>\n",
       "      <td>NaN</td>\n",
       "      <td>3.0</td>\n",
       "    </tr>\n",
       "    <tr>\n",
       "      <th>7</th>\n",
       "      <td>49600088_454</td>\n",
       "      <td>4</td>\n",
       "      <td>28</td>\n",
       "      <td>4</td>\n",
       "      <td>Rodman REBOUND (Off:3 Def:8)</td>\n",
       "      <td>NaN</td>\n",
       "      <td>3.0</td>\n",
       "    </tr>\n",
       "    <tr>\n",
       "      <th>8</th>\n",
       "      <td>49600088_455</td>\n",
       "      <td>4</td>\n",
       "      <td>28</td>\n",
       "      <td>9</td>\n",
       "      <td>BULLS Timeout: Regular (Full 5 Short 0)</td>\n",
       "      <td>NaN</td>\n",
       "      <td>3.0</td>\n",
       "    </tr>\n",
       "  </tbody>\n",
       "</table>\n",
       "</div>"
      ],
      "text/plain": [
       "       event_id  period  sec_left  type  \\\n",
       "0  49600088_460       4         0     1   \n",
       "1  49600088_461       4         0    13   \n",
       "2  49600088_459       4         4     5   \n",
       "3  49600088_456       4         5     1   \n",
       "4  49600088_457       4         5     9   \n",
       "5  49600088_458       4         5     7   \n",
       "6  49600088_453       4        28     2   \n",
       "7  49600088_454       4        28     4   \n",
       "8  49600088_455       4        28     9   \n",
       "\n",
       "                                        desc    score  margin  \n",
       "0        Kukoc  Layup (9 PTS) (Pippen 2 AST)  86 - 90     4.0  \n",
       "1                                        NaN  86 - 90     4.0  \n",
       "2                       Pippen STEAL (2 STL)      NaN     2.0  \n",
       "3  Kerr 14' Jump Shot (9 PTS) (Jordan 4 AST)  86 - 88     2.0  \n",
       "4                                        NaN      NaN     2.0  \n",
       "5   BULLS Violation: Delay of game Violation      NaN     2.0  \n",
       "6                                        NaN      NaN     3.0  \n",
       "7               Rodman REBOUND (Off:3 Def:8)      NaN     3.0  \n",
       "8    BULLS Timeout: Regular (Full 5 Short 0)      NaN     3.0  "
      ]
     },
     "execution_count": 15,
     "metadata": {},
     "output_type": "execute_result"
    }
   ],
   "source": [
    "\n",
    "# from above the game id of interest is 49600088\n",
    "game_id = '49600088'\n",
    "\n",
    "q_path = '''\n",
    "MATCH (start:Event {is_clutch: true})-[:IN_GAME]->(g:Game {game_id: $gid})\n",
    "WITH g, start\n",
    "ORDER BY start.seconds_left_period DESC\n",
    "LIMIT 1\n",
    "CALL {\n",
    "  WITH start\n",
    "  MATCH p = (start)-[:NEXT*0..20]->(e:Event)\n",
    "  WHERE e.is_clutch = true OR e.seconds_left_period <= start.seconds_left_period\n",
    "  RETURN p\n",
    "  ORDER BY length(p) DESC\n",
    "  LIMIT 1\n",
    "}\n",
    "UNWIND nodes(p) AS ev\n",
    "RETURN ev.event_id AS event_id,\n",
    "       ev.period AS period,\n",
    "       ev.seconds_left_period AS sec_left,\n",
    "       ev.event_type AS type,\n",
    "       coalesce(ev.home_desc, ev.visit_desc) AS desc,\n",
    "       ev.score AS score,\n",
    "       ev.score_margin AS margin\n",
    "ORDER BY period DESC, sec_left\n",
    "'''\n",
    "df5 = cypher_df(q_path, {\"gid\": game_id}) if game_id else pd.DataFrame()\n",
    "df5\n"
   ]
  },
  {
   "cell_type": "markdown",
   "id": "4d412fc6",
   "metadata": {},
   "source": [
    "\n",
    "This gives you an ordered **event chain** for the decisive window. You can render it as a mini timeline in your post (screenshot from the notebook).\n"
   ]
  },
  {
   "cell_type": "markdown",
   "id": "ddb616e6",
   "metadata": {},
   "source": [
    "\n",
    "---\n",
    "\n",
    "### Talking points you can reuse in your LinkedIn post\n",
    "\n",
    "- **Flat RAG retrieves paragraphs. Graph RAG retrieves *relationships* and *sequences*.**  \n",
    "- Sequence reasoning (`NEXT`) and role-typed participation (`PERFORMED {role: ...}`) let us answer **coaching-level questions** (who enabled whom, what led to what) that are brittle in pure text.  \n",
    "- The result is **precise retrieval** for the *facts* plus **narrative-ready context**—a perfect spine for a hybrid RAG system if you want to extend it later.\n"
   ]
  },
  {
   "cell_type": "code",
   "execution_count": null,
   "id": "a6d2e7ca",
   "metadata": {},
   "outputs": [],
   "source": [
    "\n",
    "driver.close()\n",
    "print(\"Done. ✅\")\n"
   ]
  }
 ],
 "metadata": {
  "kernelspec": {
   "display_name": "genai-gr",
   "language": "python",
   "name": "python3"
  },
  "language_info": {
   "codemirror_mode": {
    "name": "ipython",
    "version": 3
   },
   "file_extension": ".py",
   "mimetype": "text/x-python",
   "name": "python",
   "nbconvert_exporter": "python",
   "pygments_lexer": "ipython3",
   "version": "3.10.16"
  }
 },
 "nbformat": 4,
 "nbformat_minor": 5
}
